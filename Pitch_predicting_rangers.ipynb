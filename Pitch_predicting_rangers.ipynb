{
  "cells": [
    {
      "cell_type": "markdown",
      "source": [
        "# Pitch Prediction Model - Grant Nielson"
      ],
      "metadata": {
        "id": "fKpgrUVpNUyC"
      }
    },
    {
      "cell_type": "markdown",
      "source": [
        "Predicting the outcome of individual pitches proved to be difficult with multiple categorical responses. I tried many models and packages such as\n",
        "mclogit, brms, and MCMCglmm. I either couldn't get them to work, or was not satisfied with the convergence. I took a vastly different approach and decided to\n",
        "classify each outcome as good or bad. If there was a pa_result, I overwrote it onto pitch_result since it gave more info about balls hit into play.\n",
        "This is a risky strategy given that these outcomes are on different levels of 'good' and 'bad', but I felt I might be able to get helpful information later.\n",
        "I fit a logistic regression model, that didn't tell me much, so I decided to put all the pitch characteristics into a mixed effects model, with pitch_type and pitcher\n",
        "as the random effects. Sliders were considered the best pitch accross the board, and I was able to rank the top 10 best pitchers with the slider.\n",
        "\n",
        "I chose a mixed effects model becuase it allows me to treat pitchers as random effects. One hot encoding them would be unefficient and uninformative; random effects help us attach pitch characteristic effects to the pitcher's inherent skill and average outcomes."
      ],
      "metadata": {
        "id": "wiIU6j7hFs83"
      }
    },
    {
      "cell_type": "code",
      "execution_count": 31,
      "metadata": {
        "colab": {
          "base_uri": "https://localhost:8080/",
          "height": 316
        },
        "id": "tadF22de6iUG",
        "outputId": "32fa8db4-ff9c-4ea9-e31c-f493f2fe43a8"
      },
      "outputs": [
        {
          "output_type": "stream",
          "name": "stderr",
          "text": [
            "\u001b[1mRows: \u001b[22m\u001b[34m182703\u001b[39m \u001b[1mColumns: \u001b[22m\u001b[34m38\u001b[39m\n",
            "\u001b[36m──\u001b[39m \u001b[1mColumn specification\u001b[22m \u001b[36m────────────────────────────────────────────────────────\u001b[39m\n",
            "\u001b[1mDelimiter:\u001b[22m \",\"\n",
            "\u001b[31mchr\u001b[39m  (7): game_date, inning_half, pitch_type, pitch_result, pa_result, base_...\n",
            "\u001b[32mdbl\u001b[39m (31): game_pk, batter_mlb_player_id, pitcher_mlb_player_id, inning, batt...\n",
            "\n",
            "\u001b[36mℹ\u001b[39m Use `spec()` to retrieve the full column specification for this data.\n",
            "\u001b[36mℹ\u001b[39m Specify the column types or set `show_col_types = FALSE` to quiet this message.\n"
          ]
        },
        {
          "output_type": "display_data",
          "data": {
            "text/html": [
              "<style>\n",
              ".list-inline {list-style: none; margin:0; padding: 0}\n",
              ".list-inline>li {display: inline-block}\n",
              ".list-inline>li:not(:last-child)::after {content: \"\\00b7\"; padding: 0 .5ex}\n",
              "</style>\n",
              "<ol class=list-inline><li>'Ball'</li><li>'Foul'</li><li>'Hit Into Play'</li><li>'Called Strike'</li><li>'Swinging Strike'</li><li>'Ball Blocked'</li><li>'Foul Tip'</li><li>'Hit Batter'</li><li>'Swinging Strike Blocked'</li><li>'Foul Tip Bunt'</li><li>'Foul Bunt'</li><li>'Missed Bunt'</li><li>'Automatic Ball'</li><li>'Automatic Strike'</li><li>'Intentional Ball'</li><li>'Ball (Pitchout)'</li><li>'Foul (Pitchout)'</li></ol>\n"
            ],
            "text/markdown": "1. 'Ball'\n2. 'Foul'\n3. 'Hit Into Play'\n4. 'Called Strike'\n5. 'Swinging Strike'\n6. 'Ball Blocked'\n7. 'Foul Tip'\n8. 'Hit Batter'\n9. 'Swinging Strike Blocked'\n10. 'Foul Tip Bunt'\n11. 'Foul Bunt'\n12. 'Missed Bunt'\n13. 'Automatic Ball'\n14. 'Automatic Strike'\n15. 'Intentional Ball'\n16. 'Ball (Pitchout)'\n17. 'Foul (Pitchout)'\n\n\n",
            "text/latex": "\\begin{enumerate*}\n\\item 'Ball'\n\\item 'Foul'\n\\item 'Hit Into Play'\n\\item 'Called Strike'\n\\item 'Swinging Strike'\n\\item 'Ball Blocked'\n\\item 'Foul Tip'\n\\item 'Hit Batter'\n\\item 'Swinging Strike Blocked'\n\\item 'Foul Tip Bunt'\n\\item 'Foul Bunt'\n\\item 'Missed Bunt'\n\\item 'Automatic Ball'\n\\item 'Automatic Strike'\n\\item 'Intentional Ball'\n\\item 'Ball (Pitchout)'\n\\item 'Foul (Pitchout)'\n\\end{enumerate*}\n",
            "text/plain": [
              " [1] \"Ball\"                    \"Foul\"                   \n",
              " [3] \"Hit Into Play\"           \"Called Strike\"          \n",
              " [5] \"Swinging Strike\"         \"Ball Blocked\"           \n",
              " [7] \"Foul Tip\"                \"Hit Batter\"             \n",
              " [9] \"Swinging Strike Blocked\" \"Foul Tip Bunt\"          \n",
              "[11] \"Foul Bunt\"               \"Missed Bunt\"            \n",
              "[13] \"Automatic Ball\"          \"Automatic Strike\"       \n",
              "[15] \"Intentional Ball\"        \"Ball (Pitchout)\"        \n",
              "[17] \"Foul (Pitchout)\"        "
            ]
          },
          "metadata": {}
        },
        {
          "output_type": "display_data",
          "data": {
            "text/html": [
              "<style>\n",
              ".list-inline {list-style: none; margin:0; padding: 0}\n",
              ".list-inline>li {display: inline-block}\n",
              ".list-inline>li:not(:last-child)::after {content: \"\\00b7\"; padding: 0 .5ex}\n",
              "</style>\n",
              "<ol class=list-inline><li>'Ball'</li><li>'Foul'</li><li>'Out'</li><li>'Called Strike'</li><li>'Strikeout'</li><li>'Walk'</li><li>'Forceout'</li><li>'Double'</li><li>'Swinging Strike'</li><li>'Error'</li><li>'Double Play'</li><li>'Single'</li><li>'Ball Blocked'</li><li>'Stolen Base (2B)'</li><li>'Wild Pitch'</li><li>'Triple'</li><li>'Sac Fly'</li><li>'Home Run'</li><li>'Caught Stealing (Home)'</li><li>'Groundout (DP)'</li><li>'Hit By Pitch'</li><li>'Passed Ball'</li><li>'Swinging Strike Blocked'</li><li>'Foul Tip'</li><li>'Strikeout (DP)'</li><li>'Foul Tip Bunt'</li><li>'Fielder\\'s Choice'</li><li>'Caught Stealing (2B)'</li><li>'Stolen Base (3B)'</li><li>'Caught Stealing (3B)'</li><li>'Error (Throw)'</li><li>'Foul Bunt'</li><li>'Sac Bunt'</li><li>'Fielder\\'s Choice Out'</li><li>'Missed Bunt'</li><li>'Other Advance'</li><li>'Pickoff (2B)'</li><li>'Hit Into Play'</li><li>'Automatic Ball'</li><li>'Stolen Base (Home)'</li><li>'Pickoff Error (2B)'</li><li>'Pickoff Caught Stealing (2B)'</li><li>'Unknown'</li><li>'Catcher Interference'</li><li>'Automatic Strike'</li><li>'Pickoff (3B)'</li><li>'Intentional Ball'</li><li>'Pickoff Error (1B)'</li><li>'Defensive Indifference'</li><li>'Ball (Pitchout)'</li><li>'Runner Out'</li><li>'Foul (Pitchout)'</li><li>'Sac Fly (DP)'</li><li>'Pickoff (1B)'</li><li>'Pickoff Caught Stealing (Home)'</li><li>'Pickoff Error (3B)'</li><li>'Balk'</li></ol>\n"
            ],
            "text/markdown": "1. 'Ball'\n2. 'Foul'\n3. 'Out'\n4. 'Called Strike'\n5. 'Strikeout'\n6. 'Walk'\n7. 'Forceout'\n8. 'Double'\n9. 'Swinging Strike'\n10. 'Error'\n11. 'Double Play'\n12. 'Single'\n13. 'Ball Blocked'\n14. 'Stolen Base (2B)'\n15. 'Wild Pitch'\n16. 'Triple'\n17. 'Sac Fly'\n18. 'Home Run'\n19. 'Caught Stealing (Home)'\n20. 'Groundout (DP)'\n21. 'Hit By Pitch'\n22. 'Passed Ball'\n23. 'Swinging Strike Blocked'\n24. 'Foul Tip'\n25. 'Strikeout (DP)'\n26. 'Foul Tip Bunt'\n27. 'Fielder\\'s Choice'\n28. 'Caught Stealing (2B)'\n29. 'Stolen Base (3B)'\n30. 'Caught Stealing (3B)'\n31. 'Error (Throw)'\n32. 'Foul Bunt'\n33. 'Sac Bunt'\n34. 'Fielder\\'s Choice Out'\n35. 'Missed Bunt'\n36. 'Other Advance'\n37. 'Pickoff (2B)'\n38. 'Hit Into Play'\n39. 'Automatic Ball'\n40. 'Stolen Base (Home)'\n41. 'Pickoff Error (2B)'\n42. 'Pickoff Caught Stealing (2B)'\n43. 'Unknown'\n44. 'Catcher Interference'\n45. 'Automatic Strike'\n46. 'Pickoff (3B)'\n47. 'Intentional Ball'\n48. 'Pickoff Error (1B)'\n49. 'Defensive Indifference'\n50. 'Ball (Pitchout)'\n51. 'Runner Out'\n52. 'Foul (Pitchout)'\n53. 'Sac Fly (DP)'\n54. 'Pickoff (1B)'\n55. 'Pickoff Caught Stealing (Home)'\n56. 'Pickoff Error (3B)'\n57. 'Balk'\n\n\n",
            "text/latex": "\\begin{enumerate*}\n\\item 'Ball'\n\\item 'Foul'\n\\item 'Out'\n\\item 'Called Strike'\n\\item 'Strikeout'\n\\item 'Walk'\n\\item 'Forceout'\n\\item 'Double'\n\\item 'Swinging Strike'\n\\item 'Error'\n\\item 'Double Play'\n\\item 'Single'\n\\item 'Ball Blocked'\n\\item 'Stolen Base (2B)'\n\\item 'Wild Pitch'\n\\item 'Triple'\n\\item 'Sac Fly'\n\\item 'Home Run'\n\\item 'Caught Stealing (Home)'\n\\item 'Groundout (DP)'\n\\item 'Hit By Pitch'\n\\item 'Passed Ball'\n\\item 'Swinging Strike Blocked'\n\\item 'Foul Tip'\n\\item 'Strikeout (DP)'\n\\item 'Foul Tip Bunt'\n\\item 'Fielder\\textbackslash{}'s Choice'\n\\item 'Caught Stealing (2B)'\n\\item 'Stolen Base (3B)'\n\\item 'Caught Stealing (3B)'\n\\item 'Error (Throw)'\n\\item 'Foul Bunt'\n\\item 'Sac Bunt'\n\\item 'Fielder\\textbackslash{}'s Choice Out'\n\\item 'Missed Bunt'\n\\item 'Other Advance'\n\\item 'Pickoff (2B)'\n\\item 'Hit Into Play'\n\\item 'Automatic Ball'\n\\item 'Stolen Base (Home)'\n\\item 'Pickoff Error (2B)'\n\\item 'Pickoff Caught Stealing (2B)'\n\\item 'Unknown'\n\\item 'Catcher Interference'\n\\item 'Automatic Strike'\n\\item 'Pickoff (3B)'\n\\item 'Intentional Ball'\n\\item 'Pickoff Error (1B)'\n\\item 'Defensive Indifference'\n\\item 'Ball (Pitchout)'\n\\item 'Runner Out'\n\\item 'Foul (Pitchout)'\n\\item 'Sac Fly (DP)'\n\\item 'Pickoff (1B)'\n\\item 'Pickoff Caught Stealing (Home)'\n\\item 'Pickoff Error (3B)'\n\\item 'Balk'\n\\end{enumerate*}\n",
            "text/plain": [
              " [1] \"Ball\"                           \"Foul\"                          \n",
              " [3] \"Out\"                            \"Called Strike\"                 \n",
              " [5] \"Strikeout\"                      \"Walk\"                          \n",
              " [7] \"Forceout\"                       \"Double\"                        \n",
              " [9] \"Swinging Strike\"                \"Error\"                         \n",
              "[11] \"Double Play\"                    \"Single\"                        \n",
              "[13] \"Ball Blocked\"                   \"Stolen Base (2B)\"              \n",
              "[15] \"Wild Pitch\"                     \"Triple\"                        \n",
              "[17] \"Sac Fly\"                        \"Home Run\"                      \n",
              "[19] \"Caught Stealing (Home)\"         \"Groundout (DP)\"                \n",
              "[21] \"Hit By Pitch\"                   \"Passed Ball\"                   \n",
              "[23] \"Swinging Strike Blocked\"        \"Foul Tip\"                      \n",
              "[25] \"Strikeout (DP)\"                 \"Foul Tip Bunt\"                 \n",
              "[27] \"Fielder's Choice\"               \"Caught Stealing (2B)\"          \n",
              "[29] \"Stolen Base (3B)\"               \"Caught Stealing (3B)\"          \n",
              "[31] \"Error (Throw)\"                  \"Foul Bunt\"                     \n",
              "[33] \"Sac Bunt\"                       \"Fielder's Choice Out\"          \n",
              "[35] \"Missed Bunt\"                    \"Other Advance\"                 \n",
              "[37] \"Pickoff (2B)\"                   \"Hit Into Play\"                 \n",
              "[39] \"Automatic Ball\"                 \"Stolen Base (Home)\"            \n",
              "[41] \"Pickoff Error (2B)\"             \"Pickoff Caught Stealing (2B)\"  \n",
              "[43] \"Unknown\"                        \"Catcher Interference\"          \n",
              "[45] \"Automatic Strike\"               \"Pickoff (3B)\"                  \n",
              "[47] \"Intentional Ball\"               \"Pickoff Error (1B)\"            \n",
              "[49] \"Defensive Indifference\"         \"Ball (Pitchout)\"               \n",
              "[51] \"Runner Out\"                     \"Foul (Pitchout)\"               \n",
              "[53] \"Sac Fly (DP)\"                   \"Pickoff (1B)\"                  \n",
              "[55] \"Pickoff Caught Stealing (Home)\" \"Pickoff Error (3B)\"            \n",
              "[57] \"Balk\"                          "
            ]
          },
          "metadata": {}
        }
      ],
      "source": [
        "library(vroom)\n",
        "library(dplyr)\n",
        "library(tidyverse)\n",
        "library(gt)\n",
        "\n",
        "df<-vroom('pitch_data.csv')\n",
        "unique(df$pitch_result)\n",
        "df$pitch_result <- ifelse(!is.na(df$pa_result), df$pa_result, df$pitch_result)"
      ]
    },
    {
      "cell_type": "code",
      "execution_count": 32,
      "metadata": {
        "id": "Rj4Z8Sri6oSV"
      },
      "outputs": [],
      "source": [
        "# Step 1: Classify pitch_result as good or bad\n",
        "# Define the lists of bad and good results\n",
        "bad_results <- c(\"Ball\", \"Double\", \"Single\", \"Triple\", \"Wild Pitch\", \"Passed Ball\")\n",
        "good_results <- c(\"Foul\", \"Out\", \"Called Strike\", \"Forceout\", \"Swinging Strike\", \"Strikeout\",\n",
        "                  \"Double Play\", \"Swinging Strike Blocked\", \"Foul Tip\", \"Strikeout (DP)\",\n",
        "                  \"Foul Tip Bunt\", \"Missed Bunt\", \"Runner Out\")\n",
        "\n",
        "# Create a binary variable for pitch_result: 1 for good, 0 for bad\n",
        "df <- df %>%\n",
        "  mutate(\n",
        "    result_binary = case_when(\n",
        "      pitch_result %in% good_results ~ 1,\n",
        "      pitch_result %in% bad_results ~ 0,\n",
        "      TRUE ~ NA_real_  # Keep other cases as NA if they don't match either list\n",
        "    )\n",
        "\n",
        "\n",
        "# filter out rows with NA in result_binary as they don't have a valid result\n",
        "df <- df %>% filter(!is.na(result_binary))"
      ]
    },
    {
      "cell_type": "markdown",
      "source": [
        "## Trying Logistic Regression"
      ],
      "metadata": {
        "id": "zh6iFzvSNe7Q"
      }
    },
    {
      "cell_type": "code",
      "execution_count": 26,
      "metadata": {
        "id": "23DdEFIo6ooM",
        "colab": {
          "base_uri": "https://localhost:8080/",
          "height": 1000
        },
        "outputId": "d166b444-937b-41f0-ee29-c589eeef850d"
      },
      "outputs": [
        {
          "output_type": "stream",
          "name": "stderr",
          "text": [
            "Warning message:\n",
            "“glm.fit: fitted probabilities numerically 0 or 1 occurred”\n"
          ]
        },
        {
          "output_type": "display_data",
          "data": {
            "text/plain": [
              "\n",
              "Call:\n",
              "glm(formula = result_binary ~ ., family = binomial, data = df)\n",
              "\n",
              "Coefficients:\n",
              "                              Estimate Std. Error z value Pr(>|z|)    \n",
              "(Intercept)                  6.559e+00  8.305e+00   0.790 0.429682    \n",
              "game_pk                     -1.372e-05  1.161e-05  -1.182 0.237192    \n",
              "batter_mlb_player_id         1.360e-06  3.504e-06   0.388 0.697920    \n",
              "pitcher_mlb_player_id       -1.026e-06  3.224e-06  -0.318 0.750334    \n",
              "inning                      -2.717e-02  2.072e-01  -0.131 0.895669    \n",
              "inning_halfTOP               2.240e-01  1.766e-01   1.268 0.204826    \n",
              "batter_per_game              4.009e-03  3.528e-02   0.114 0.909509    \n",
              "pitch_per_game              -7.802e-04  5.034e-03  -0.155 0.876824    \n",
              "home_team_id                 1.092e-02  7.639e-03   1.429 0.152998    \n",
              "away_team_id                 1.011e-02  7.678e-03   1.316 0.188130    \n",
              "pitch_speed                  1.176e-02  1.880e-02   0.626 0.531594    \n",
              "induced_vertical_break      -4.250e-03  1.387e-02  -0.306 0.759367    \n",
              "horizontal_break             1.596e-02  7.869e-03   2.028 0.042577 *  \n",
              "spin_rate                   -1.607e-04  2.421e-04  -0.664 0.506804    \n",
              "pitch_release_coordinates_x -2.292e-02  4.465e-02  -0.513 0.607699    \n",
              "pitch_release_coordinates_z  4.947e-03  1.558e-01   0.032 0.974676    \n",
              "pitch_location_side_x       -1.287e-01  1.287e-01  -1.000 0.317428    \n",
              "pitch_location_height_z      3.117e-02  1.199e-01   0.260 0.794942    \n",
              "hit_exit_speed              -8.167e-03  5.231e-03  -1.561 0.118415    \n",
              "hit_coordinates_x           -1.528e-03  2.475e-03  -0.618 0.536840    \n",
              "hit_coordinates_y            1.576e-02  2.247e-03   7.012 2.35e-12 ***\n",
              "hit_direction                6.355e-03  3.288e-03   1.933 0.053233 .  \n",
              "hit_launch_angle             1.089e-02  3.005e-03   3.622 0.000292 ***\n",
              "hit_last_distance           -2.928e-05  4.960e-05  -0.590 0.554952    \n",
              "balls_pre_event             -7.595e-01  7.577e-02 -10.023  < 2e-16 ***\n",
              "strikes_pre_event            1.111e+00  9.029e-02  12.309  < 2e-16 ***\n",
              "base_state_post_event__3    -1.580e+00  2.683e-01  -5.889 3.87e-09 ***\n",
              "base_state_post_event_2_    -2.267e+00  2.347e-01  -9.656  < 2e-16 ***\n",
              "base_state_post_event_23    -3.725e-01  6.628e-01  -0.562 0.574097    \n",
              "base_state_post_event1__    -3.462e+00  1.536e-01 -22.543  < 2e-16 ***\n",
              "base_state_post_event1_3    -3.248e+00  4.353e-01  -7.462 8.51e-14 ***\n",
              "base_state_post_event12_    -5.151e+00  4.391e-01 -11.729  < 2e-16 ***\n",
              "base_state_post_event123    -4.405e+00  6.663e+00  -0.661 0.508533    \n",
              "home_score_pre_event        -3.901e+00  3.467e-01 -11.251  < 2e-16 ***\n",
              "home_score_post_event        3.851e+00  3.481e-01  11.065  < 2e-16 ***\n",
              "away_score_pre_event        -2.858e+00  2.999e-01  -9.528  < 2e-16 ***\n",
              "away_score_post_event        2.918e+00  3.045e-01   9.582  < 2e-16 ***\n",
              "run_value_288               -1.535e+01  4.054e-01 -37.877  < 2e-16 ***\n",
              "home_win_prob_pre           -1.998e+00  2.275e+00  -0.878 0.379775    \n",
              "home_win_prob_post           2.244e+00  2.184e+00   1.028 0.304049    \n",
              "---\n",
              "Signif. codes:  0 ‘***’ 0.001 ‘**’ 0.01 ‘*’ 0.05 ‘.’ 0.1 ‘ ’ 1\n",
              "\n",
              "(Dispersion parameter for binomial family taken to be 1)\n",
              "\n",
              "    Null deviance: 31893.4  on 25020  degrees of freedom\n",
              "Residual deviance:  2286.1  on 24981  degrees of freedom\n",
              "  (145199 observations deleted due to missingness)\n",
              "AIC: 2366.1\n",
              "\n",
              "Number of Fisher Scoring iterations: 10\n"
            ]
          },
          "metadata": {}
        },
        {
          "output_type": "stream",
          "name": "stdout",
          "text": [
            "                             Estimate   Std.Error    z.value      Pr(>|z|)\n",
            "horizontal_break           0.01595773 0.007869335   2.027837  4.257692e-02\n",
            "hit_coordinates_y          0.01575874 0.002247465   7.011787  2.352935e-12\n",
            "hit_launch_angle           0.01088525 0.003005297   3.622020  2.923117e-04\n",
            "balls_pre_event           -0.75945110 0.075773612 -10.022633  1.212297e-23\n",
            "strikes_pre_event          1.11135957 0.090291819  12.308530  8.149389e-35\n",
            "base_state_post_event__3  -1.58021579 0.268312239  -5.889466  3.874457e-09\n",
            "base_state_post_event_2_  -2.26664507 0.234739513  -9.656001  4.636071e-22\n",
            "base_state_post_event1__  -3.46159819 0.153553449 -22.543279 1.563051e-112\n",
            "base_state_post_event1_3  -3.24816196 0.435281761  -7.462206  8.508602e-14\n",
            "base_state_post_event12_  -5.15050064 0.439119939 -11.729143  9.036878e-32\n",
            "home_score_pre_event      -3.90061170 0.346683239 -11.251227  2.283934e-29\n",
            "home_score_post_event      3.85114585 0.348059589  11.064616  1.862580e-28\n",
            "away_score_pre_event      -2.85767257 0.299914301  -9.528297  1.598843e-21\n",
            "away_score_post_event      2.91797337 0.304522010   9.582143  9.505212e-22\n",
            "run_value_288            -15.35450150 0.405381770 -37.876645  0.000000e+00\n"
          ]
        }
      ],
      "source": [
        "# it logistic regression model to see which covariates are significant\n",
        "# select the relevant predictors for the model\n",
        "logistic_model <- glm(result_binary ~ ., data = df, family = binomial)\n",
        "\n",
        "summary(logistic_model)\n",
        "summary_model <- summary(logistic_model)\n",
        "\n",
        "# coefs to df\n",
        "coefficients_df <- as.data.frame(summary_model$coefficients)\n",
        "\n",
        "# rename cols\n",
        "colnames(coefficients_df) <- c(\"Estimate\", \"Std.Error\", \"z.value\", \"Pr(>|z|)\")\n",
        "\n",
        "# get p-values <= 0.05\n",
        "significant_coefficients <- coefficients_df %>% filter(`Pr(>|z|)` <= 0.05)\n",
        "\n",
        "print(significant_coefficients)"
      ]
    },
    {
      "cell_type": "code",
      "source": [
        "# Step 1: One-hot encode the pitch_type column using model.matrix\n",
        "one_hot_encoded <- model.matrix(~ pitch_type - 1, data = df)\n",
        "\n",
        "# Step 2: Convert the matrix to a data frame for easier merging\n",
        "one_hot_encoded_df <- as.data.frame(one_hot_encoded)\n",
        "\n",
        "# Step 3: Merge the one-hot encoded columns back with the original df\n",
        "# Remove the original pitch_type column and then bind the new one-hot encoded columns\n",
        "df <- cbind(df %>% select(-pitch_type), one_hot_encoded_df)\n",
        "\n",
        "# Check the result\n",
        "head(df)"
      ],
      "metadata": {
        "colab": {
          "base_uri": "https://localhost:8080/",
          "height": 306
        },
        "id": "2jXaaVXCJnRw",
        "outputId": "f80f7000-2d97-47ba-e9a0-2f650fefd1fa"
      },
      "execution_count": 92,
      "outputs": [
        {
          "output_type": "display_data",
          "data": {
            "text/html": [
              "<table class=\"dataframe\">\n",
              "<caption>A data.frame: 6 × 47</caption>\n",
              "<thead>\n",
              "\t<tr><th></th><th scope=col>game_date</th><th scope=col>game_pk</th><th scope=col>batter_mlb_player_id</th><th scope=col>pitcher_mlb_player_id</th><th scope=col>inning</th><th scope=col>inning_half</th><th scope=col>batter_per_game</th><th scope=col>pitch_per_game</th><th scope=col>home_team_id</th><th scope=col>away_team_id</th><th scope=col>⋯</th><th scope=col>result_binary</th><th scope=col>pitch_typeChangeup</th><th scope=col>pitch_typeCurveball</th><th scope=col>pitch_typeCutter</th><th scope=col>pitch_typeFastball</th><th scope=col>pitch_typeKnuckleball</th><th scope=col>pitch_typeSinker</th><th scope=col>pitch_typeSlider</th><th scope=col>pitch_typeSplitter</th><th scope=col>pitch_typeSweeper</th></tr>\n",
              "\t<tr><th></th><th scope=col>&lt;chr&gt;</th><th scope=col>&lt;dbl&gt;</th><th scope=col>&lt;dbl&gt;</th><th scope=col>&lt;fct&gt;</th><th scope=col>&lt;dbl&gt;</th><th scope=col>&lt;chr&gt;</th><th scope=col>&lt;dbl&gt;</th><th scope=col>&lt;dbl&gt;</th><th scope=col>&lt;dbl&gt;</th><th scope=col>&lt;dbl&gt;</th><th scope=col>⋯</th><th scope=col>&lt;dbl&gt;</th><th scope=col>&lt;dbl&gt;</th><th scope=col>&lt;dbl&gt;</th><th scope=col>&lt;dbl&gt;</th><th scope=col>&lt;dbl&gt;</th><th scope=col>&lt;dbl&gt;</th><th scope=col>&lt;dbl&gt;</th><th scope=col>&lt;dbl&gt;</th><th scope=col>&lt;dbl&gt;</th><th scope=col>&lt;dbl&gt;</th></tr>\n",
              "</thead>\n",
              "<tbody>\n",
              "\t<tr><th scope=row>1</th><td>4/8/2022</td><td>670551</td><td>695653</td><td>680632</td><td>1</td><td>TOP</td><td>1</td><td>1</td><td>94</td><td>100</td><td>⋯</td><td>0</td><td>0</td><td>0</td><td>0</td><td>1</td><td>0</td><td>0</td><td>0</td><td>0</td><td>0</td></tr>\n",
              "\t<tr><th scope=row>2</th><td>4/8/2022</td><td>670551</td><td>695653</td><td>680632</td><td>1</td><td>TOP</td><td>1</td><td>2</td><td>94</td><td>100</td><td>⋯</td><td>1</td><td>0</td><td>0</td><td>0</td><td>1</td><td>0</td><td>0</td><td>0</td><td>0</td><td>0</td></tr>\n",
              "\t<tr><th scope=row>3</th><td>4/8/2022</td><td>670551</td><td>695653</td><td>680632</td><td>1</td><td>TOP</td><td>1</td><td>3</td><td>94</td><td>100</td><td>⋯</td><td>1</td><td>0</td><td>0</td><td>0</td><td>1</td><td>0</td><td>0</td><td>0</td><td>0</td><td>0</td></tr>\n",
              "\t<tr><th scope=row>4</th><td>4/8/2022</td><td>670551</td><td>695653</td><td>680632</td><td>1</td><td>TOP</td><td>1</td><td>4</td><td>94</td><td>100</td><td>⋯</td><td>1</td><td>0</td><td>0</td><td>0</td><td>0</td><td>0</td><td>0</td><td>1</td><td>0</td><td>0</td></tr>\n",
              "\t<tr><th scope=row>5</th><td>4/8/2022</td><td>670551</td><td>696160</td><td>680632</td><td>1</td><td>TOP</td><td>2</td><td>5</td><td>94</td><td>100</td><td>⋯</td><td>1</td><td>0</td><td>0</td><td>0</td><td>1</td><td>0</td><td>0</td><td>0</td><td>0</td><td>0</td></tr>\n",
              "\t<tr><th scope=row>6</th><td>4/8/2022</td><td>670551</td><td>696160</td><td>680632</td><td>1</td><td>TOP</td><td>2</td><td>6</td><td>94</td><td>100</td><td>⋯</td><td>1</td><td>0</td><td>0</td><td>0</td><td>0</td><td>0</td><td>0</td><td>1</td><td>0</td><td>0</td></tr>\n",
              "</tbody>\n",
              "</table>\n"
            ],
            "text/markdown": "\nA data.frame: 6 × 47\n\n| <!--/--> | game_date &lt;chr&gt; | game_pk &lt;dbl&gt; | batter_mlb_player_id &lt;dbl&gt; | pitcher_mlb_player_id &lt;fct&gt; | inning &lt;dbl&gt; | inning_half &lt;chr&gt; | batter_per_game &lt;dbl&gt; | pitch_per_game &lt;dbl&gt; | home_team_id &lt;dbl&gt; | away_team_id &lt;dbl&gt; | ⋯ ⋯ | result_binary &lt;dbl&gt; | pitch_typeChangeup &lt;dbl&gt; | pitch_typeCurveball &lt;dbl&gt; | pitch_typeCutter &lt;dbl&gt; | pitch_typeFastball &lt;dbl&gt; | pitch_typeKnuckleball &lt;dbl&gt; | pitch_typeSinker &lt;dbl&gt; | pitch_typeSlider &lt;dbl&gt; | pitch_typeSplitter &lt;dbl&gt; | pitch_typeSweeper &lt;dbl&gt; |\n|---|---|---|---|---|---|---|---|---|---|---|---|---|---|---|---|---|---|---|---|---|---|\n| 1 | 4/8/2022 | 670551 | 695653 | 680632 | 1 | TOP | 1 | 1 | 94 | 100 | ⋯ | 0 | 0 | 0 | 0 | 1 | 0 | 0 | 0 | 0 | 0 |\n| 2 | 4/8/2022 | 670551 | 695653 | 680632 | 1 | TOP | 1 | 2 | 94 | 100 | ⋯ | 1 | 0 | 0 | 0 | 1 | 0 | 0 | 0 | 0 | 0 |\n| 3 | 4/8/2022 | 670551 | 695653 | 680632 | 1 | TOP | 1 | 3 | 94 | 100 | ⋯ | 1 | 0 | 0 | 0 | 1 | 0 | 0 | 0 | 0 | 0 |\n| 4 | 4/8/2022 | 670551 | 695653 | 680632 | 1 | TOP | 1 | 4 | 94 | 100 | ⋯ | 1 | 0 | 0 | 0 | 0 | 0 | 0 | 1 | 0 | 0 |\n| 5 | 4/8/2022 | 670551 | 696160 | 680632 | 1 | TOP | 2 | 5 | 94 | 100 | ⋯ | 1 | 0 | 0 | 0 | 1 | 0 | 0 | 0 | 0 | 0 |\n| 6 | 4/8/2022 | 670551 | 696160 | 680632 | 1 | TOP | 2 | 6 | 94 | 100 | ⋯ | 1 | 0 | 0 | 0 | 0 | 0 | 0 | 1 | 0 | 0 |\n\n",
            "text/latex": "A data.frame: 6 × 47\n\\begin{tabular}{r|lllllllllllllllllllll}\n  & game\\_date & game\\_pk & batter\\_mlb\\_player\\_id & pitcher\\_mlb\\_player\\_id & inning & inning\\_half & batter\\_per\\_game & pitch\\_per\\_game & home\\_team\\_id & away\\_team\\_id & ⋯ & result\\_binary & pitch\\_typeChangeup & pitch\\_typeCurveball & pitch\\_typeCutter & pitch\\_typeFastball & pitch\\_typeKnuckleball & pitch\\_typeSinker & pitch\\_typeSlider & pitch\\_typeSplitter & pitch\\_typeSweeper\\\\\n  & <chr> & <dbl> & <dbl> & <fct> & <dbl> & <chr> & <dbl> & <dbl> & <dbl> & <dbl> & ⋯ & <dbl> & <dbl> & <dbl> & <dbl> & <dbl> & <dbl> & <dbl> & <dbl> & <dbl> & <dbl>\\\\\n\\hline\n\t1 & 4/8/2022 & 670551 & 695653 & 680632 & 1 & TOP & 1 & 1 & 94 & 100 & ⋯ & 0 & 0 & 0 & 0 & 1 & 0 & 0 & 0 & 0 & 0\\\\\n\t2 & 4/8/2022 & 670551 & 695653 & 680632 & 1 & TOP & 1 & 2 & 94 & 100 & ⋯ & 1 & 0 & 0 & 0 & 1 & 0 & 0 & 0 & 0 & 0\\\\\n\t3 & 4/8/2022 & 670551 & 695653 & 680632 & 1 & TOP & 1 & 3 & 94 & 100 & ⋯ & 1 & 0 & 0 & 0 & 1 & 0 & 0 & 0 & 0 & 0\\\\\n\t4 & 4/8/2022 & 670551 & 695653 & 680632 & 1 & TOP & 1 & 4 & 94 & 100 & ⋯ & 1 & 0 & 0 & 0 & 0 & 0 & 0 & 1 & 0 & 0\\\\\n\t5 & 4/8/2022 & 670551 & 696160 & 680632 & 1 & TOP & 2 & 5 & 94 & 100 & ⋯ & 1 & 0 & 0 & 0 & 1 & 0 & 0 & 0 & 0 & 0\\\\\n\t6 & 4/8/2022 & 670551 & 696160 & 680632 & 1 & TOP & 2 & 6 & 94 & 100 & ⋯ & 1 & 0 & 0 & 0 & 0 & 0 & 0 & 1 & 0 & 0\\\\\n\\end{tabular}\n",
            "text/plain": [
              "  game_date game_pk batter_mlb_player_id pitcher_mlb_player_id inning\n",
              "1 4/8/2022  670551  695653               680632                1     \n",
              "2 4/8/2022  670551  695653               680632                1     \n",
              "3 4/8/2022  670551  695653               680632                1     \n",
              "4 4/8/2022  670551  695653               680632                1     \n",
              "5 4/8/2022  670551  696160               680632                1     \n",
              "6 4/8/2022  670551  696160               680632                1     \n",
              "  inning_half batter_per_game pitch_per_game home_team_id away_team_id ⋯\n",
              "1 TOP         1               1              94           100          ⋯\n",
              "2 TOP         1               2              94           100          ⋯\n",
              "3 TOP         1               3              94           100          ⋯\n",
              "4 TOP         1               4              94           100          ⋯\n",
              "5 TOP         2               5              94           100          ⋯\n",
              "6 TOP         2               6              94           100          ⋯\n",
              "  result_binary pitch_typeChangeup pitch_typeCurveball pitch_typeCutter\n",
              "1 0             0                  0                   0               \n",
              "2 1             0                  0                   0               \n",
              "3 1             0                  0                   0               \n",
              "4 1             0                  0                   0               \n",
              "5 1             0                  0                   0               \n",
              "6 1             0                  0                   0               \n",
              "  pitch_typeFastball pitch_typeKnuckleball pitch_typeSinker pitch_typeSlider\n",
              "1 1                  0                     0                0               \n",
              "2 1                  0                     0                0               \n",
              "3 1                  0                     0                0               \n",
              "4 0                  0                     0                1               \n",
              "5 1                  0                     0                0               \n",
              "6 0                  0                     0                1               \n",
              "  pitch_typeSplitter pitch_typeSweeper\n",
              "1 0                  0                \n",
              "2 0                  0                \n",
              "3 0                  0                \n",
              "4 0                  0                \n",
              "5 0                  0                \n",
              "6 0                  0                "
            ]
          },
          "metadata": {}
        }
      ]
    },
    {
      "cell_type": "code",
      "source": [
        "install.packages('lme4')"
      ],
      "metadata": {
        "colab": {
          "base_uri": "https://localhost:8080/"
        },
        "id": "OckT2-p2_G0F",
        "outputId": "cb41ebce-35c0-4699-9ba9-9745d044e973"
      },
      "execution_count": 28,
      "outputs": [
        {
          "output_type": "stream",
          "name": "stderr",
          "text": [
            "Installing package into ‘/usr/local/lib/R/site-library’\n",
            "(as ‘lib’ is unspecified)\n",
            "\n",
            "also installing the dependencies ‘minqa’, ‘nloptr’, ‘RcppEigen’\n",
            "\n",
            "\n"
          ]
        }
      ]
    },
    {
      "cell_type": "markdown",
      "source": [
        "## Mixed/Random Effects Model"
      ],
      "metadata": {
        "id": "H9AkZgZCNjnG"
      }
    },
    {
      "cell_type": "code",
      "source": [
        "# Load the required package\n",
        "library(lme4)\n",
        "\n",
        "# Ensure pitch_type and pitcher_mlb_player_id are factors\n",
        "df$pitcher_mlb_player_id <- as.factor(df$pitcher_mlb_player_id)\n",
        "\n",
        "# Fit a logistic mixed-effects model\n",
        "# Here, result_binary is the binary outcome (1 for good, 0 for bad)\n",
        "# Fixed effects include the other predictors, and we use random intercepts for both pitch_type and pitcher_mlb_player_id\n",
        "mixed_model <- glmer(result_binary ~ horizontal_break + pitch_speed + induced_vertical_break +\n",
        "  pitch_release_coordinates_x + pitch_release_coordinates_z +\n",
        "                     pitch_location_side_x + pitch_location_height_z + pitch_typeChangeup\t+\n",
        "                     pitch_typeCurveball\t+ pitch_typeCutter + pitch_typeFastball +\n",
        "                     pitch_typeKnuckleball +\tpitch_typeSinker + pitch_typeSlider +\n",
        "                       pitch_typeSplitter +\tpitch_typeSweeper + (1 | pitcher_mlb_player_id),\n",
        "                     data = df, family = binomial)\n",
        "\n",
        "# View the summary of the mixed-effects model\n",
        "summary(mixed_model)\n"
      ],
      "metadata": {
        "colab": {
          "base_uri": "https://localhost:8080/",
          "height": 1000
        },
        "id": "SVDfn1rC9MuG",
        "outputId": "a5ee10c6-a3c8-42f8-b5d9-2e89372106dc"
      },
      "execution_count": 94,
      "outputs": [
        {
          "output_type": "stream",
          "name": "stderr",
          "text": [
            "fixed-effect model matrix is rank deficient so dropping 1 column / coefficient\n",
            "\n",
            "Warning message in checkConv(attr(opt, \"derivs\"), opt$par, ctrl = control$checkConv, :\n",
            "“Model failed to converge with max|grad| = 0.0174083 (tol = 0.002, component 1)”\n",
            "Warning message in checkConv(attr(opt, \"derivs\"), opt$par, ctrl = control$checkConv, :\n",
            "“Model is nearly unidentifiable: very large eigenvalue\n",
            " - Rescale variables?;Model is nearly unidentifiable: large eigenvalue ratio\n",
            " - Rescale variables?”\n",
            "\n",
            "Correlation matrix not shown by default, as p = 16 > 12.\n",
            "Use print(obj, correlation=TRUE)  or\n",
            "    vcov(obj)        if you need it\n",
            "\n",
            "\n"
          ]
        },
        {
          "output_type": "display_data",
          "data": {
            "text/plain": [
              "Generalized linear mixed model fit by maximum likelihood (Laplace\n",
              "  Approximation) [glmerMod]\n",
              " Family: binomial  ( logit )\n",
              "Formula: \n",
              "result_binary ~ horizontal_break + pitch_speed + induced_vertical_break +  \n",
              "    pitch_release_coordinates_x + pitch_release_coordinates_z +  \n",
              "    pitch_location_side_x + pitch_location_height_z + pitch_typeChangeup +  \n",
              "    pitch_typeCurveball + pitch_typeCutter + pitch_typeFastball +  \n",
              "    pitch_typeKnuckleball + pitch_typeSinker + pitch_typeSlider +  \n",
              "    pitch_typeSplitter + pitch_typeSweeper + (1 | pitcher_mlb_player_id)\n",
              "   Data: df\n",
              "\n",
              "      AIC       BIC    logLik  deviance  df.resid \n",
              " 228031.2  228201.9 -113998.6  227997.2    170191 \n",
              "\n",
              "Scaled residuals: \n",
              "    Min      1Q  Median      3Q     Max \n",
              "-4.7900 -1.1700  0.7516  0.8188  1.2712 \n",
              "\n",
              "Random effects:\n",
              " Groups                Name        Variance Std.Dev.\n",
              " pitcher_mlb_player_id (Intercept) 0.01277  0.113   \n",
              "Number of obs: 170208, groups:  pitcher_mlb_player_id, 458\n",
              "\n",
              "Fixed effects:\n",
              "                              Estimate Std. Error z value Pr(>|z|)    \n",
              "(Intercept)                 -0.6515089  0.8394294  -0.776 0.437670    \n",
              "horizontal_break             0.0015407  0.0006175   2.495 0.012600 *  \n",
              "pitch_speed                  0.0086206  0.0023461   3.674 0.000238 ***\n",
              "induced_vertical_break       0.0070337  0.0013971   5.034 4.79e-07 ***\n",
              "pitch_release_coordinates_x  0.0059948  0.0050758   1.181 0.237580    \n",
              "pitch_release_coordinates_z -0.0025941  0.0173616  -0.149 0.881226    \n",
              "pitch_location_side_x       -0.1247374  0.0059873 -20.833  < 2e-16 ***\n",
              "pitch_location_height_z      0.0451542  0.0055383   8.153 3.55e-16 ***\n",
              "pitch_typeChangeup           0.0082273  0.8120364   0.010 0.991916    \n",
              "pitch_typeCurveball          0.1489527  0.8121963   0.183 0.854488    \n",
              "pitch_typeCutter             0.1933960  0.8126538   0.238 0.811896    \n",
              "pitch_typeFastball           0.1491536  0.8122321   0.184 0.854300    \n",
              "pitch_typeKnuckleball       -0.4720903  0.8398005  -0.562 0.574017    \n",
              "pitch_typeSinker             0.0929915  0.8122843   0.114 0.908856    \n",
              "pitch_typeSlider             0.2761035  0.8118514   0.340 0.733788    \n",
              "pitch_typeSplitter          -0.1739325  0.8167528  -0.213 0.831361    \n",
              "---\n",
              "Signif. codes:  0 ‘***’ 0.001 ‘**’ 0.01 ‘*’ 0.05 ‘.’ 0.1 ‘ ’ 1\n",
              "fit warnings:\n",
              "fixed-effect model matrix is rank deficient so dropping 1 column / coefficient\n",
              "optimizer (Nelder_Mead) convergence code: 0 (OK)\n",
              "Model failed to converge with max|grad| = 0.0174083 (tol = 0.002, component 1)\n",
              "Model is nearly unidentifiable: very large eigenvalue\n",
              " - Rescale variables?\n",
              "Model is nearly unidentifiable: large eigenvalue ratio\n",
              " - Rescale variables?\n"
            ]
          },
          "metadata": {}
        }
      ]
    },
    {
      "cell_type": "code",
      "source": [
        "player_df <- vroom('player_data.csv')"
      ],
      "metadata": {
        "colab": {
          "base_uri": "https://localhost:8080/",
          "height": 1000
        },
        "id": "US0bOYB9ED1w",
        "outputId": "35f9b97a-dce9-47d0-a20e-0208eb8c1c65"
      },
      "execution_count": 47,
      "outputs": [
        {
          "output_type": "stream",
          "name": "stderr",
          "text": [
            "\u001b[1mRows: \u001b[22m\u001b[34m829\u001b[39m \u001b[1mColumns: \u001b[22m\u001b[34m6\u001b[39m\n",
            "\u001b[36m──\u001b[39m \u001b[1mColumn specification\u001b[22m \u001b[36m────────────────────────────────────────────────────────\u001b[39m\n",
            "\u001b[1mDelimiter:\u001b[22m \",\"\n",
            "\u001b[31mchr\u001b[39m (5): name, birth_date, roster_position_code, bats, throws\n",
            "\u001b[32mdbl\u001b[39m (1): player_id\n",
            "\n",
            "\u001b[36mℹ\u001b[39m Use `spec()` to retrieve the full column specification for this data.\n",
            "\u001b[36mℹ\u001b[39m Specify the column types or set `show_col_types = FALSE` to quiet this message.\n"
          ]
        },
        {
          "output_type": "display_data",
          "data": {
            "text/html": [
              "<table class=\"dataframe\">\n",
              "<caption>A spec_tbl_df: 829 × 6</caption>\n",
              "<thead>\n",
              "\t<tr><th scope=col>player_id</th><th scope=col>name</th><th scope=col>birth_date</th><th scope=col>roster_position_code</th><th scope=col>bats</th><th scope=col>throws</th></tr>\n",
              "\t<tr><th scope=col>&lt;dbl&gt;</th><th scope=col>&lt;chr&gt;</th><th scope=col>&lt;chr&gt;</th><th scope=col>&lt;chr&gt;</th><th scope=col>&lt;chr&gt;</th><th scope=col>&lt;chr&gt;</th></tr>\n",
              "</thead>\n",
              "<tbody>\n",
              "\t<tr><td>688815</td><td>Anthony Quirion    </td><td>10/29/1997</td><td>C  </td><td>R</td><td>R</td></tr>\n",
              "\t<tr><td>621563</td><td>Joey Wendle        </td><td>4/26/1990 </td><td>SS </td><td>L</td><td>R</td></tr>\n",
              "\t<tr><td>695481</td><td>Jay Allen          </td><td>11/22/2002</td><td>OF </td><td>R</td><td>R</td></tr>\n",
              "\t<tr><td>702463</td><td>Aaron McKeithan    </td><td>12/13/1999</td><td>C  </td><td>R</td><td>R</td></tr>\n",
              "\t<tr><td>693850</td><td>Kala'i Rosario     </td><td>7/2/2002  </td><td>RF </td><td>R</td><td>R</td></tr>\n",
              "\t<tr><td>684081</td><td>Erick Brito        </td><td>5/25/2002 </td><td>2B </td><td>R</td><td>R</td></tr>\n",
              "\t<tr><td>684260</td><td>Jose Estrada       </td><td>5/5/2000  </td><td>C  </td><td>R</td><td>R</td></tr>\n",
              "\t<tr><td>694929</td><td>Gus Steiger        </td><td>4/20/1999 </td><td>SS </td><td>R</td><td>R</td></tr>\n",
              "\t<tr><td>678781</td><td>Angel Basabe       </td><td>12/12/2000</td><td>LF </td><td>L</td><td>L</td></tr>\n",
              "\t<tr><td>656472</td><td>Jakob Goldfarb     </td><td>6/23/1996 </td><td>C  </td><td>L</td><td>R</td></tr>\n",
              "\t<tr><td>691627</td><td>Ricardo Olivar     </td><td>8/10/2001 </td><td>C  </td><td>R</td><td>R</td></tr>\n",
              "\t<tr><td>680763</td><td>Eric De La Rosa    </td><td>6/3/1997  </td><td>LF </td><td>R</td><td>R</td></tr>\n",
              "\t<tr><td>686941</td><td>Brett Barrera      </td><td>5/7/2001  </td><td>SS </td><td>R</td><td>R</td></tr>\n",
              "\t<tr><td>702314</td><td>Sean Hermann       </td><td>6/13/2003 </td><td>RHS</td><td>R</td><td>R</td></tr>\n",
              "\t<tr><td>693313</td><td>Carson Seymour     </td><td>12/16/1998</td><td>RHP</td><td>R</td><td>R</td></tr>\n",
              "\t<tr><td>675914</td><td>Tony Dibrell       </td><td>11/8/1995 </td><td>RHS</td><td>R</td><td>R</td></tr>\n",
              "\t<tr><td>682769</td><td>Eiberson Castellano</td><td>5/9/2001  </td><td>RHS</td><td>R</td><td>R</td></tr>\n",
              "\t<tr><td>594798</td><td>Jacob deGrom       </td><td>6/19/1988 </td><td>RHS</td><td>L</td><td>R</td></tr>\n",
              "\t<tr><td>571951</td><td>Bryan Mitchell     </td><td>4/19/1991 </td><td>RHS</td><td>L</td><td>R</td></tr>\n",
              "\t<tr><td>674265</td><td>Kevin Abel         </td><td>2/19/1999 </td><td>RHP</td><td>R</td><td>R</td></tr>\n",
              "\t<tr><td>700188</td><td>Dylan Tebrake      </td><td>7/13/1999 </td><td>RHS</td><td>R</td><td>R</td></tr>\n",
              "\t<tr><td>678640</td><td>Carlos Betancourt  </td><td>3/27/2001 </td><td>RHP</td><td>R</td><td>R</td></tr>\n",
              "\t<tr><td>673215</td><td>Juan Diaz          </td><td>6/19/1998 </td><td>LHS</td><td>L</td><td>L</td></tr>\n",
              "\t<tr><td>692845</td><td>Franklin Sanchez   </td><td>9/12/2000 </td><td>RHS</td><td>R</td><td>R</td></tr>\n",
              "\t<tr><td>684084</td><td>Sergio Umana       </td><td>5/21/2000 </td><td>RHS</td><td>R</td><td>R</td></tr>\n",
              "\t<tr><td>687189</td><td>Marcus Johnson     </td><td>12/11/2000</td><td>RHS</td><td>R</td><td>R</td></tr>\n",
              "\t<tr><td>682656</td><td>Sergio Campana     </td><td>3/29/2002 </td><td>CF </td><td>S</td><td>R</td></tr>\n",
              "\t<tr><td>694351</td><td>Jacob Berry        </td><td>5/5/2001  </td><td>3B </td><td>S</td><td>R</td></tr>\n",
              "\t<tr><td>702261</td><td>Termarr Johnson    </td><td>6/11/2004 </td><td>SS </td><td>L</td><td>R</td></tr>\n",
              "\t<tr><td>658652</td><td>Oscar Campos       </td><td>12/8/1996 </td><td>C  </td><td>R</td><td>R</td></tr>\n",
              "\t<tr><td>⋮</td><td>⋮</td><td>⋮</td><td>⋮</td><td>⋮</td><td>⋮</td></tr>\n",
              "\t<tr><td>695648</td><td>Micah Ottenbreit   </td><td>5/7/2003  </td><td>RHS</td><td>R</td><td>R</td></tr>\n",
              "\t<tr><td>695549</td><td>Jackson Jobe       </td><td>7/30/2002 </td><td>RHS</td><td>R</td><td>R</td></tr>\n",
              "\t<tr><td>691582</td><td>Jean Reyes         </td><td>8/16/2002 </td><td>RHS</td><td>R</td><td>R</td></tr>\n",
              "\t<tr><td>687857</td><td>Sam Ryan           </td><td>9/22/1998 </td><td>RHS</td><td>R</td><td>R</td></tr>\n",
              "\t<tr><td>542585</td><td>Jose Cisnero       </td><td>4/11/1989 </td><td>RHR</td><td>R</td><td>R</td></tr>\n",
              "\t<tr><td>666163</td><td>Ben Rortvedt       </td><td>9/25/1997 </td><td>C  </td><td>L</td><td>R</td></tr>\n",
              "\t<tr><td>680273</td><td>Chris Meyers       </td><td>4/27/1999 </td><td>1B </td><td>L</td><td>R</td></tr>\n",
              "\t<tr><td>683152</td><td>Michael Curialle   </td><td>6/16/2001 </td><td>SS </td><td>R</td><td>R</td></tr>\n",
              "\t<tr><td>681453</td><td>Daneurys De La Cruz</td><td>4/27/2001 </td><td>C  </td><td>R</td><td>R</td></tr>\n",
              "\t<tr><td>696135</td><td>Kahlil Watson      </td><td>4/16/2003 </td><td>SS </td><td>L</td><td>R</td></tr>\n",
              "\t<tr><td>671224</td><td>Danny Lantigua     </td><td>3/7/1999  </td><td>RF </td><td>S</td><td>R</td></tr>\n",
              "\t<tr><td>689328</td><td>Ashton Creal       </td><td>3/23/1999 </td><td>CF </td><td>R</td><td>R</td></tr>\n",
              "\t<tr><td>691398</td><td>Yerlin Confidan    </td><td>12/16/2002</td><td>OF </td><td>L</td><td>L</td></tr>\n",
              "\t<tr><td>695995</td><td>Tomas Cleto        </td><td>10/9/2000 </td><td>RHS</td><td>R</td><td>R</td></tr>\n",
              "\t<tr><td>681094</td><td>Keyshawn Askew     </td><td>1/5/2000  </td><td>LHP</td><td>L</td><td>L</td></tr>\n",
              "\t<tr><td>695231</td><td>Patrick Pridgen    </td><td>3/26/1999 </td><td>RHS</td><td>R</td><td>R</td></tr>\n",
              "\t<tr><td>691453</td><td>Edgardo Ibarra     </td><td>6/2/2003  </td><td>LHS</td><td>L</td><td>L</td></tr>\n",
              "\t<tr><td>641927</td><td>Bailey Ober        </td><td>7/12/1995 </td><td>RHS</td><td>R</td><td>R</td></tr>\n",
              "\t<tr><td>677020</td><td>Joshua Walker      </td><td>12/1/1994 </td><td>LHR</td><td>L</td><td>L</td></tr>\n",
              "\t<tr><td>683677</td><td>Johan Montero      </td><td>8/26/1999 </td><td>RHR</td><td>R</td><td>R</td></tr>\n",
              "\t<tr><td>682451</td><td>Enrique Santana    </td><td>9/23/1997 </td><td>RHR</td><td>R</td><td>R</td></tr>\n",
              "\t<tr><td>702238</td><td>Malik Binns        </td><td>1/15/1999 </td><td>RHR</td><td>R</td><td>R</td></tr>\n",
              "\t<tr><td>668941</td><td>JoJo Romero        </td><td>9/9/1996  </td><td>LHR</td><td>L</td><td>L</td></tr>\n",
              "\t<tr><td>689359</td><td>Dale Stanavich     </td><td>6/23/1999 </td><td>LHP</td><td>L</td><td>L</td></tr>\n",
              "\t<tr><td>687209</td><td>Zachary Maxwell    </td><td>1/26/2001 </td><td>RHP</td><td>R</td><td>R</td></tr>\n",
              "\t<tr><td>701487</td><td>Pierson Ohl        </td><td>9/10/1999 </td><td>RHS</td><td>R</td><td>R</td></tr>\n",
              "\t<tr><td>687288</td><td>Devereaux Harrison </td><td>11/8/2000 </td><td>RHP</td><td>R</td><td>R</td></tr>\n",
              "\t<tr><td>693308</td><td>Nick Frasso        </td><td>10/18/1998</td><td>RHP</td><td>R</td><td>R</td></tr>\n",
              "\t<tr><td>667652</td><td>Jack Ralston       </td><td>8/13/1997 </td><td>RHR</td><td>R</td><td>R</td></tr>\n",
              "\t<tr><td>691893</td><td>Jean Cabrera       </td><td>10/20/2001</td><td>RHS</td><td>R</td><td>R</td></tr>\n",
              "</tbody>\n",
              "</table>\n"
            ],
            "text/markdown": "\nA spec_tbl_df: 829 × 6\n\n| player_id &lt;dbl&gt; | name &lt;chr&gt; | birth_date &lt;chr&gt; | roster_position_code &lt;chr&gt; | bats &lt;chr&gt; | throws &lt;chr&gt; |\n|---|---|---|---|---|---|\n| 688815 | Anthony Quirion     | 10/29/1997 | C   | R | R |\n| 621563 | Joey Wendle         | 4/26/1990  | SS  | L | R |\n| 695481 | Jay Allen           | 11/22/2002 | OF  | R | R |\n| 702463 | Aaron McKeithan     | 12/13/1999 | C   | R | R |\n| 693850 | Kala'i Rosario      | 7/2/2002   | RF  | R | R |\n| 684081 | Erick Brito         | 5/25/2002  | 2B  | R | R |\n| 684260 | Jose Estrada        | 5/5/2000   | C   | R | R |\n| 694929 | Gus Steiger         | 4/20/1999  | SS  | R | R |\n| 678781 | Angel Basabe        | 12/12/2000 | LF  | L | L |\n| 656472 | Jakob Goldfarb      | 6/23/1996  | C   | L | R |\n| 691627 | Ricardo Olivar      | 8/10/2001  | C   | R | R |\n| 680763 | Eric De La Rosa     | 6/3/1997   | LF  | R | R |\n| 686941 | Brett Barrera       | 5/7/2001   | SS  | R | R |\n| 702314 | Sean Hermann        | 6/13/2003  | RHS | R | R |\n| 693313 | Carson Seymour      | 12/16/1998 | RHP | R | R |\n| 675914 | Tony Dibrell        | 11/8/1995  | RHS | R | R |\n| 682769 | Eiberson Castellano | 5/9/2001   | RHS | R | R |\n| 594798 | Jacob deGrom        | 6/19/1988  | RHS | L | R |\n| 571951 | Bryan Mitchell      | 4/19/1991  | RHS | L | R |\n| 674265 | Kevin Abel          | 2/19/1999  | RHP | R | R |\n| 700188 | Dylan Tebrake       | 7/13/1999  | RHS | R | R |\n| 678640 | Carlos Betancourt   | 3/27/2001  | RHP | R | R |\n| 673215 | Juan Diaz           | 6/19/1998  | LHS | L | L |\n| 692845 | Franklin Sanchez    | 9/12/2000  | RHS | R | R |\n| 684084 | Sergio Umana        | 5/21/2000  | RHS | R | R |\n| 687189 | Marcus Johnson      | 12/11/2000 | RHS | R | R |\n| 682656 | Sergio Campana      | 3/29/2002  | CF  | S | R |\n| 694351 | Jacob Berry         | 5/5/2001   | 3B  | S | R |\n| 702261 | Termarr Johnson     | 6/11/2004  | SS  | L | R |\n| 658652 | Oscar Campos        | 12/8/1996  | C   | R | R |\n| ⋮ | ⋮ | ⋮ | ⋮ | ⋮ | ⋮ |\n| 695648 | Micah Ottenbreit    | 5/7/2003   | RHS | R | R |\n| 695549 | Jackson Jobe        | 7/30/2002  | RHS | R | R |\n| 691582 | Jean Reyes          | 8/16/2002  | RHS | R | R |\n| 687857 | Sam Ryan            | 9/22/1998  | RHS | R | R |\n| 542585 | Jose Cisnero        | 4/11/1989  | RHR | R | R |\n| 666163 | Ben Rortvedt        | 9/25/1997  | C   | L | R |\n| 680273 | Chris Meyers        | 4/27/1999  | 1B  | L | R |\n| 683152 | Michael Curialle    | 6/16/2001  | SS  | R | R |\n| 681453 | Daneurys De La Cruz | 4/27/2001  | C   | R | R |\n| 696135 | Kahlil Watson       | 4/16/2003  | SS  | L | R |\n| 671224 | Danny Lantigua      | 3/7/1999   | RF  | S | R |\n| 689328 | Ashton Creal        | 3/23/1999  | CF  | R | R |\n| 691398 | Yerlin Confidan     | 12/16/2002 | OF  | L | L |\n| 695995 | Tomas Cleto         | 10/9/2000  | RHS | R | R |\n| 681094 | Keyshawn Askew      | 1/5/2000   | LHP | L | L |\n| 695231 | Patrick Pridgen     | 3/26/1999  | RHS | R | R |\n| 691453 | Edgardo Ibarra      | 6/2/2003   | LHS | L | L |\n| 641927 | Bailey Ober         | 7/12/1995  | RHS | R | R |\n| 677020 | Joshua Walker       | 12/1/1994  | LHR | L | L |\n| 683677 | Johan Montero       | 8/26/1999  | RHR | R | R |\n| 682451 | Enrique Santana     | 9/23/1997  | RHR | R | R |\n| 702238 | Malik Binns         | 1/15/1999  | RHR | R | R |\n| 668941 | JoJo Romero         | 9/9/1996   | LHR | L | L |\n| 689359 | Dale Stanavich      | 6/23/1999  | LHP | L | L |\n| 687209 | Zachary Maxwell     | 1/26/2001  | RHP | R | R |\n| 701487 | Pierson Ohl         | 9/10/1999  | RHS | R | R |\n| 687288 | Devereaux Harrison  | 11/8/2000  | RHP | R | R |\n| 693308 | Nick Frasso         | 10/18/1998 | RHP | R | R |\n| 667652 | Jack Ralston        | 8/13/1997  | RHR | R | R |\n| 691893 | Jean Cabrera        | 10/20/2001 | RHS | R | R |\n\n",
            "text/latex": "A spec\\_tbl\\_df: 829 × 6\n\\begin{tabular}{llllll}\n player\\_id & name & birth\\_date & roster\\_position\\_code & bats & throws\\\\\n <dbl> & <chr> & <chr> & <chr> & <chr> & <chr>\\\\\n\\hline\n\t 688815 & Anthony Quirion     & 10/29/1997 & C   & R & R\\\\\n\t 621563 & Joey Wendle         & 4/26/1990  & SS  & L & R\\\\\n\t 695481 & Jay Allen           & 11/22/2002 & OF  & R & R\\\\\n\t 702463 & Aaron McKeithan     & 12/13/1999 & C   & R & R\\\\\n\t 693850 & Kala'i Rosario      & 7/2/2002   & RF  & R & R\\\\\n\t 684081 & Erick Brito         & 5/25/2002  & 2B  & R & R\\\\\n\t 684260 & Jose Estrada        & 5/5/2000   & C   & R & R\\\\\n\t 694929 & Gus Steiger         & 4/20/1999  & SS  & R & R\\\\\n\t 678781 & Angel Basabe        & 12/12/2000 & LF  & L & L\\\\\n\t 656472 & Jakob Goldfarb      & 6/23/1996  & C   & L & R\\\\\n\t 691627 & Ricardo Olivar      & 8/10/2001  & C   & R & R\\\\\n\t 680763 & Eric De La Rosa     & 6/3/1997   & LF  & R & R\\\\\n\t 686941 & Brett Barrera       & 5/7/2001   & SS  & R & R\\\\\n\t 702314 & Sean Hermann        & 6/13/2003  & RHS & R & R\\\\\n\t 693313 & Carson Seymour      & 12/16/1998 & RHP & R & R\\\\\n\t 675914 & Tony Dibrell        & 11/8/1995  & RHS & R & R\\\\\n\t 682769 & Eiberson Castellano & 5/9/2001   & RHS & R & R\\\\\n\t 594798 & Jacob deGrom        & 6/19/1988  & RHS & L & R\\\\\n\t 571951 & Bryan Mitchell      & 4/19/1991  & RHS & L & R\\\\\n\t 674265 & Kevin Abel          & 2/19/1999  & RHP & R & R\\\\\n\t 700188 & Dylan Tebrake       & 7/13/1999  & RHS & R & R\\\\\n\t 678640 & Carlos Betancourt   & 3/27/2001  & RHP & R & R\\\\\n\t 673215 & Juan Diaz           & 6/19/1998  & LHS & L & L\\\\\n\t 692845 & Franklin Sanchez    & 9/12/2000  & RHS & R & R\\\\\n\t 684084 & Sergio Umana        & 5/21/2000  & RHS & R & R\\\\\n\t 687189 & Marcus Johnson      & 12/11/2000 & RHS & R & R\\\\\n\t 682656 & Sergio Campana      & 3/29/2002  & CF  & S & R\\\\\n\t 694351 & Jacob Berry         & 5/5/2001   & 3B  & S & R\\\\\n\t 702261 & Termarr Johnson     & 6/11/2004  & SS  & L & R\\\\\n\t 658652 & Oscar Campos        & 12/8/1996  & C   & R & R\\\\\n\t ⋮ & ⋮ & ⋮ & ⋮ & ⋮ & ⋮\\\\\n\t 695648 & Micah Ottenbreit    & 5/7/2003   & RHS & R & R\\\\\n\t 695549 & Jackson Jobe        & 7/30/2002  & RHS & R & R\\\\\n\t 691582 & Jean Reyes          & 8/16/2002  & RHS & R & R\\\\\n\t 687857 & Sam Ryan            & 9/22/1998  & RHS & R & R\\\\\n\t 542585 & Jose Cisnero        & 4/11/1989  & RHR & R & R\\\\\n\t 666163 & Ben Rortvedt        & 9/25/1997  & C   & L & R\\\\\n\t 680273 & Chris Meyers        & 4/27/1999  & 1B  & L & R\\\\\n\t 683152 & Michael Curialle    & 6/16/2001  & SS  & R & R\\\\\n\t 681453 & Daneurys De La Cruz & 4/27/2001  & C   & R & R\\\\\n\t 696135 & Kahlil Watson       & 4/16/2003  & SS  & L & R\\\\\n\t 671224 & Danny Lantigua      & 3/7/1999   & RF  & S & R\\\\\n\t 689328 & Ashton Creal        & 3/23/1999  & CF  & R & R\\\\\n\t 691398 & Yerlin Confidan     & 12/16/2002 & OF  & L & L\\\\\n\t 695995 & Tomas Cleto         & 10/9/2000  & RHS & R & R\\\\\n\t 681094 & Keyshawn Askew      & 1/5/2000   & LHP & L & L\\\\\n\t 695231 & Patrick Pridgen     & 3/26/1999  & RHS & R & R\\\\\n\t 691453 & Edgardo Ibarra      & 6/2/2003   & LHS & L & L\\\\\n\t 641927 & Bailey Ober         & 7/12/1995  & RHS & R & R\\\\\n\t 677020 & Joshua Walker       & 12/1/1994  & LHR & L & L\\\\\n\t 683677 & Johan Montero       & 8/26/1999  & RHR & R & R\\\\\n\t 682451 & Enrique Santana     & 9/23/1997  & RHR & R & R\\\\\n\t 702238 & Malik Binns         & 1/15/1999  & RHR & R & R\\\\\n\t 668941 & JoJo Romero         & 9/9/1996   & LHR & L & L\\\\\n\t 689359 & Dale Stanavich      & 6/23/1999  & LHP & L & L\\\\\n\t 687209 & Zachary Maxwell     & 1/26/2001  & RHP & R & R\\\\\n\t 701487 & Pierson Ohl         & 9/10/1999  & RHS & R & R\\\\\n\t 687288 & Devereaux Harrison  & 11/8/2000  & RHP & R & R\\\\\n\t 693308 & Nick Frasso         & 10/18/1998 & RHP & R & R\\\\\n\t 667652 & Jack Ralston        & 8/13/1997  & RHR & R & R\\\\\n\t 691893 & Jean Cabrera        & 10/20/2001 & RHS & R & R\\\\\n\\end{tabular}\n",
            "text/plain": [
              "    player_id name                birth_date roster_position_code bats throws\n",
              "1   688815    Anthony Quirion     10/29/1997 C                    R    R     \n",
              "2   621563    Joey Wendle         4/26/1990  SS                   L    R     \n",
              "3   695481    Jay Allen           11/22/2002 OF                   R    R     \n",
              "4   702463    Aaron McKeithan     12/13/1999 C                    R    R     \n",
              "5   693850    Kala'i Rosario      7/2/2002   RF                   R    R     \n",
              "6   684081    Erick Brito         5/25/2002  2B                   R    R     \n",
              "7   684260    Jose Estrada        5/5/2000   C                    R    R     \n",
              "8   694929    Gus Steiger         4/20/1999  SS                   R    R     \n",
              "9   678781    Angel Basabe        12/12/2000 LF                   L    L     \n",
              "10  656472    Jakob Goldfarb      6/23/1996  C                    L    R     \n",
              "11  691627    Ricardo Olivar      8/10/2001  C                    R    R     \n",
              "12  680763    Eric De La Rosa     6/3/1997   LF                   R    R     \n",
              "13  686941    Brett Barrera       5/7/2001   SS                   R    R     \n",
              "14  702314    Sean Hermann        6/13/2003  RHS                  R    R     \n",
              "15  693313    Carson Seymour      12/16/1998 RHP                  R    R     \n",
              "16  675914    Tony Dibrell        11/8/1995  RHS                  R    R     \n",
              "17  682769    Eiberson Castellano 5/9/2001   RHS                  R    R     \n",
              "18  594798    Jacob deGrom        6/19/1988  RHS                  L    R     \n",
              "19  571951    Bryan Mitchell      4/19/1991  RHS                  L    R     \n",
              "20  674265    Kevin Abel          2/19/1999  RHP                  R    R     \n",
              "21  700188    Dylan Tebrake       7/13/1999  RHS                  R    R     \n",
              "22  678640    Carlos Betancourt   3/27/2001  RHP                  R    R     \n",
              "23  673215    Juan Diaz           6/19/1998  LHS                  L    L     \n",
              "24  692845    Franklin Sanchez    9/12/2000  RHS                  R    R     \n",
              "25  684084    Sergio Umana        5/21/2000  RHS                  R    R     \n",
              "26  687189    Marcus Johnson      12/11/2000 RHS                  R    R     \n",
              "27  682656    Sergio Campana      3/29/2002  CF                   S    R     \n",
              "28  694351    Jacob Berry         5/5/2001   3B                   S    R     \n",
              "29  702261    Termarr Johnson     6/11/2004  SS                   L    R     \n",
              "30  658652    Oscar Campos        12/8/1996  C                    R    R     \n",
              "⋮   ⋮         ⋮                   ⋮          ⋮                    ⋮    ⋮     \n",
              "800 695648    Micah Ottenbreit    5/7/2003   RHS                  R    R     \n",
              "801 695549    Jackson Jobe        7/30/2002  RHS                  R    R     \n",
              "802 691582    Jean Reyes          8/16/2002  RHS                  R    R     \n",
              "803 687857    Sam Ryan            9/22/1998  RHS                  R    R     \n",
              "804 542585    Jose Cisnero        4/11/1989  RHR                  R    R     \n",
              "805 666163    Ben Rortvedt        9/25/1997  C                    L    R     \n",
              "806 680273    Chris Meyers        4/27/1999  1B                   L    R     \n",
              "807 683152    Michael Curialle    6/16/2001  SS                   R    R     \n",
              "808 681453    Daneurys De La Cruz 4/27/2001  C                    R    R     \n",
              "809 696135    Kahlil Watson       4/16/2003  SS                   L    R     \n",
              "810 671224    Danny Lantigua      3/7/1999   RF                   S    R     \n",
              "811 689328    Ashton Creal        3/23/1999  CF                   R    R     \n",
              "812 691398    Yerlin Confidan     12/16/2002 OF                   L    L     \n",
              "813 695995    Tomas Cleto         10/9/2000  RHS                  R    R     \n",
              "814 681094    Keyshawn Askew      1/5/2000   LHP                  L    L     \n",
              "815 695231    Patrick Pridgen     3/26/1999  RHS                  R    R     \n",
              "816 691453    Edgardo Ibarra      6/2/2003   LHS                  L    L     \n",
              "817 641927    Bailey Ober         7/12/1995  RHS                  R    R     \n",
              "818 677020    Joshua Walker       12/1/1994  LHR                  L    L     \n",
              "819 683677    Johan Montero       8/26/1999  RHR                  R    R     \n",
              "820 682451    Enrique Santana     9/23/1997  RHR                  R    R     \n",
              "821 702238    Malik Binns         1/15/1999  RHR                  R    R     \n",
              "822 668941    JoJo Romero         9/9/1996   LHR                  L    L     \n",
              "823 689359    Dale Stanavich      6/23/1999  LHP                  L    L     \n",
              "824 687209    Zachary Maxwell     1/26/2001  RHP                  R    R     \n",
              "825 701487    Pierson Ohl         9/10/1999  RHS                  R    R     \n",
              "826 687288    Devereaux Harrison  11/8/2000  RHP                  R    R     \n",
              "827 693308    Nick Frasso         10/18/1998 RHP                  R    R     \n",
              "828 667652    Jack Ralston        8/13/1997  RHR                  R    R     \n",
              "829 691893    Jean Cabrera        10/20/2001 RHS                  R    R     "
            ]
          },
          "metadata": {}
        }
      ]
    },
    {
      "cell_type": "markdown",
      "source": [
        "## Validation"
      ],
      "metadata": {
        "id": "0j_y5NMZGc4U"
      }
    },
    {
      "cell_type": "code",
      "source": [
        "predicted_probs <- predict(mixed_model, type = \"response\")\n",
        "\n",
        "# classify\n",
        "predicted_classes <- ifelse(predicted_probs > 0.5, 1, 0)\n",
        "\n",
        "actual_classes <- df$result_binary\n",
        "\n",
        "# Create a confusion matrix\n",
        "conf_matrix <- table(Predicted = predicted_classes, Actual = actual_classes)\n",
        "print(conf_matrix)"
      ],
      "metadata": {
        "colab": {
          "base_uri": "https://localhost:8080/"
        },
        "id": "Uy3WWNc0GRXU",
        "outputId": "39b47c28-9126-4368-f893-dcfcb5ac267e"
      },
      "execution_count": 95,
      "outputs": [
        {
          "output_type": "stream",
          "name": "stdout",
          "text": [
            "         Actual\n",
            "Predicted      0      1\n",
            "        0   2939    858\n",
            "        1  65369 101042\n"
          ]
        }
      ]
    },
    {
      "cell_type": "code",
      "source": [
        "TP <- conf_matrix[2, 2]  # True Positives\n",
        "TN <- conf_matrix[1, 1]  # True Negatives\n",
        "FP <- conf_matrix[2, 1]  # False Positives\n",
        "FN <- conf_matrix[1, 2]  # False Negatives\n",
        "\n",
        "# Calculate metrics\n",
        "accuracy <- (TP + TN) / sum(conf_matrix)\n",
        "precision <- TP / (TP + FP)\n",
        "recall <- TP / (TP + FN)  # Also known as sensitivity\n",
        "specificity <- TN / (TN + FP)\n",
        "\n",
        "# Display the metrics\n",
        "cat(\"Accuracy:\", accuracy, \"\\n\")\n",
        "cat(\"Precision:\", precision, \"\\n\")\n",
        "cat(\"Recall (Sensitivity):\", recall, \"\\n\")\n",
        "cat(\"Specificity:\", specificity, \"\\n\")"
      ],
      "metadata": {
        "colab": {
          "base_uri": "https://localhost:8080/"
        },
        "id": "DuY5-5J0HTTw",
        "outputId": "91435cb9-df13-42bd-87b6-e0afd3c4fa21"
      },
      "execution_count": 96,
      "outputs": [
        {
          "output_type": "stream",
          "name": "stdout",
          "text": [
            "Accuracy: 0.6109055 \n",
            "Precision: 0.6071834 \n",
            "Recall (Sensitivity): 0.99158 \n",
            "Specificity: 0.04302571 \n"
          ]
        }
      ]
    },
    {
      "cell_type": "code",
      "source": [
        "library(ggplot2)\n",
        "\n",
        "# Step 1: Generate predicted probabilities\n",
        "# Assuming you've already done this\n",
        "predicted_probs <- predict(mixed_model, type = \"response\")\n",
        "\n",
        "# Step 2: Create a data frame with actual and predicted values\n",
        "calibration_data <- data.frame(\n",
        "  predicted_probs = predicted_probs,\n",
        "  actual = df$result_binary\n",
        ")\n",
        "\n",
        "# Step 3: Plot calibration curve using ggplot2\n",
        "calibration_plot <- ggplot(calibration_data, aes(x = predicted_probs, y = actual)) +\n",
        "  geom_point(alpha = 0.2, color = \"blue\") +  # Points for individual observations\n",
        "  geom_smooth(method = \"loess\", color = \"blue\", se = FALSE) +  # LOESS smooth line for calibration curve\n",
        "  geom_abline(intercept = 0, slope = 1, linetype = \"dashed\", color = \"red\") +  # Ideal diagonal line\n",
        "  labs(\n",
        "    x = \"Predicted Probability\",\n",
        "    y = \"Observed Outcome\",\n",
        "    title = \"Calibration Plot\"\n",
        "  ) +\n",
        "  theme_minimal()\n",
        "\n",
        "# Display the plot\n",
        "print(calibration_plot)"
      ],
      "metadata": {
        "colab": {
          "base_uri": "https://localhost:8080/",
          "height": 455
        },
        "id": "4OyVAL0kHhqo",
        "outputId": "40c1842c-831d-45e8-af51-f5097e514588"
      },
      "execution_count": 100,
      "outputs": [
        {
          "output_type": "stream",
          "name": "stderr",
          "text": [
            "\u001b[1m\u001b[22m`geom_smooth()` using formula = 'y ~ x'\n"
          ]
        },
        {
          "output_type": "display_data",
          "data": {
            "text/plain": [
              "plot without title"
            ],
            "image/png": "[encoded data removed]"
          },
          "metadata": {
            "image/png": {
              "width": 420,
              "height": 420
            }
          }
        }
      ]
    },
    {
      "cell_type": "markdown",
      "source": [
        "Honestly, these predictions aren't great. The calibration plot is no good. It rarely predicts a 'bad' outcome, so Sensitivity is great but Specificity is awful. I am more focused on the pitcher/pitch_type random effects, so prediction is not the most important thing, but I recognzie that this model is a bit poor.\n",
        "\n",
        "I chose to look at the confusion matrix becuase it lets me how well my preditions are doing from multiple angles besides accuracy. Getting recall and precision helps me know if my model is biased towards certain outcomes. The calibration plot is also nice, because it takes only a second or two to get an idea of how well the model is predicting."
      ],
      "metadata": {
        "id": "RehzEXa4HiGj"
      }
    },
    {
      "cell_type": "code",
      "source": [
        "player_df$player_id <- as.character(player_df$player_id)\n",
        "\n",
        "# join combined_effects_df with player_data\n",
        "combined_effects_with_names <- combined_effects_df %>%\n",
        "  left_join(player_df, by = c(\"pitcher_mlb_player_id\" = \"player_id\"))\n",
        "\n",
        "combined_effects_with_names <- combined_effects_with_names %>%\n",
        "  select(name, pitch_type, pitch_type_effect, pitcher_effect, combined_effect, roster_position_code)\n",
        "\n",
        "# sort by combined effect to view the top and bottom combinations with player names\n",
        "best_combinations_with_names <- combined_effects_with_names %>%\n",
        "  arrange(desc(combined_effect)) %>%\n",
        "  head(20)\n",
        "\n",
        "worst_combinations_with_names <- combined_effects_with_names %>%\n",
        "  arrange(combined_effect) %>%\n",
        "  head(10)\n",
        "\n",
        "\n",
        "print(\"Top 10 Best Pitcher and Pitch Type Combinations with Player Names\")\n",
        "print(best_combinations_with_names)\n",
        "\n",
        "print(\"Top 10 Worst Pitcher and Pitch Type Combinations with Player Names\")\n",
        "print(worst_combinations_with_names)\n"
      ],
      "metadata": {
        "colab": {
          "base_uri": "https://localhost:8080/"
        },
        "id": "OJtKAN2jAoAO",
        "outputId": "912fba4b-747b-473d-d024-6e1c6bbefe34"
      },
      "execution_count": 99,
      "outputs": [
        {
          "output_type": "stream",
          "name": "stdout",
          "text": [
            "[1] \"Top 10 Best Pitcher and Pitch Type Combinations with Player Names\"\n",
            "                 name pitch_type pitch_type_effect pitcher_effect\n",
            "1      Hunter McMahon     Slider        0.18536140      0.2453612\n",
            "2       Luis Palacios     Slider        0.18536140      0.2316371\n",
            "3         Pierson Ohl     Slider        0.18536140      0.2248279\n",
            "4         Joey Steele     Slider        0.18536140      0.1950814\n",
            "5         Nick Davila     Slider        0.18536140      0.1904212\n",
            "6       Oswald Medina     Slider        0.18536140      0.1745922\n",
            "7          Zane Mills     Slider        0.18536140      0.1696061\n",
            "8       Jeffrey Colon     Slider        0.18536140      0.1664267\n",
            "9       Jordan Fowler     Slider        0.18536140      0.1657081\n",
            "10       Carlos Gomez     Slider        0.18536140      0.1625416\n",
            "11    Inohan Paniagua     Slider        0.18536140      0.1597387\n",
            "12     Hunter McMahon     Cutter        0.09295516      0.2453612\n",
            "13        Ben Baggett     Slider        0.18536140      0.1520097\n",
            "14      Julian Aguiar     Slider        0.18536140      0.1429099\n",
            "15       Samuel Perez     Slider        0.18536140      0.1414753\n",
            "16    Ricky Tiedemann     Slider        0.18536140      0.1408821\n",
            "17      Luis Palacios     Cutter        0.09295516      0.2316371\n",
            "18    Tristan Garnett     Slider        0.18536140      0.1374913\n",
            "19 Chandler Champlain     Slider        0.18536140      0.1363329\n",
            "20   John Stankiewicz     Slider        0.18536140      0.1363077\n",
            "   combined_effect roster_position_code\n",
            "1        0.4307226                  RHS\n",
            "2        0.4169985                  LHR\n",
            "3        0.4101893                  RHS\n",
            "4        0.3804428                  RHR\n",
            "5        0.3757826                  RHS\n",
            "6        0.3599536                  RHS\n",
            "7        0.3549675                  RHS\n",
            "8        0.3517881                  RHR\n",
            "9        0.3510695                  LHP\n",
            "10       0.3479030                  RHS\n",
            "11       0.3451001                  RHS\n",
            "12       0.3383163                  RHS\n",
            "13       0.3373711                  RHS\n",
            "14       0.3282713                  RHP\n",
            "15       0.3268367                  LHR\n",
            "16       0.3262435                  LHS\n",
            "17       0.3245923                  LHR\n",
            "18       0.3228527                  LHS\n",
            "19       0.3216943                  RHP\n",
            "20       0.3216691                  RHP\n",
            "[1] \"Top 10 Worst Pitcher and Pitch Type Combinations with Player Names\"\n",
            "                name  pitch_type pitch_type_effect pitcher_effect\n",
            "1         Levi David    Splitter        -0.1740970     -0.2728097\n",
            "2         Levi David Knuckleball        -0.1451901     -0.2728097\n",
            "3      Alex McKenney    Splitter        -0.1740970     -0.2322880\n",
            "4         Juan Abril    Splitter        -0.1740970     -0.2113295\n",
            "5  Alexander Johnson    Splitter        -0.1740970     -0.2039279\n",
            "6      Alex McKenney Knuckleball        -0.1451901     -0.2322880\n",
            "7   Miguel Alfonseca    Splitter        -0.1740970     -0.1993723\n",
            "8     Yomil Maysonet    Splitter        -0.1740970     -0.1939995\n",
            "9      Dameivi Tineo    Splitter        -0.1740970     -0.1938074\n",
            "10        Juan Abril Knuckleball        -0.1451901     -0.2113295\n",
            "   combined_effect roster_position_code\n",
            "1       -0.4469066                  RHS\n",
            "2       -0.4179998                  RHS\n",
            "3       -0.4063850                  RHS\n",
            "4       -0.3854265                  RHS\n",
            "5       -0.3780249                  RHS\n",
            "6       -0.3774781                  RHS\n",
            "7       -0.3734692                  RHP\n",
            "8       -0.3680965                  RHP\n",
            "9       -0.3679043                  LHS\n",
            "10      -0.3565196                  RHS\n"
          ]
        }
      ]
    },
    {
      "cell_type": "markdown",
      "source": [
        "The model loves the slider - it a pitcher throwing a slider increased the probabilty of a \"good\" defensive outcome the most, on average.\n",
        "\n",
        "The list is also in fairly straight order for pitcher effects; the only variations being repeat pitcher for different pitch types (Hunter McMahon and Luis Palacios)."
      ],
      "metadata": {
        "id": "tdFAMfVbMsIM"
      }
    },
    {
      "cell_type": "markdown",
      "source": [
        "This model could be helpful for evaluating hitters if I had included hitters as random effects, which is doable, I just didn't do it here. It could help me learn interactions betwen certain hitters and pitch types, which could help in a matchup model becuase we know what pitch types and pitch charactersitics a certain pitchers will exhibit."
      ],
      "metadata": {
        "id": "kJxmI7QpLZBe"
      }
    }
  ],
  "metadata": {
    "colab": {
      "provenance": []
    },
    "kernelspec": {
      "display_name": "R",
      "name": "ir"
    },
    "language_info": {
      "name": "R"
    }
  },
  "nbformat": 4,
  "nbformat_minor": 0
}